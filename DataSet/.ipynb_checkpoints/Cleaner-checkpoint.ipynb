{
 "cells": [
  {
   "cell_type": "code",
   "execution_count": 1,
   "metadata": {},
   "outputs": [],
   "source": [
    "import nltk\n",
    "from nltk import corpus\n",
    "import pandas as pd\n",
    "import csv\n",
    "import re\n",
    "from nltk.corpus import words"
   ]
  },
  {
   "cell_type": "code",
   "execution_count": 2,
   "metadata": {},
   "outputs": [],
   "source": [
    "wordlist = words.words()\n",
    "wordlist.append('ikr')\n",
    "wordlist.append('lol')\n",
    "wordlist.append('imo')\n",
    "wordlist.append('idk')\n",
    "wordlist.append('idc')\n",
    "wordlist.append('yeet')\n",
    "wordlist.append('gg')\n",
    "wordlist.sort()"
   ]
  },
  {
   "cell_type": "code",
   "execution_count": 3,
   "metadata": {},
   "outputs": [],
   "source": [
    "def binarySearch(x):\n",
    "    arr = wordlist\n",
    "    l=0\n",
    "    r=len(wordlist)-1\n",
    "    x = x.lower()\n",
    "    while l <= r: \n",
    "        mid = l + (r - l)//2; \n",
    "        if arr[mid] == x: \n",
    "            return True \n",
    "        elif arr[mid] < x: \n",
    "            l = mid + 1\n",
    "        else: \n",
    "            r = mid - 1\n",
    "    return False"
   ]
  },
  {
   "cell_type": "code",
   "execution_count": 4,
   "metadata": {},
   "outputs": [],
   "source": [
    "def _removeNonAscii(s):\n",
    "    x = \"\".join(i for i in s if (ord(i)>=32 and ord(i)<128))\n",
    "    return str(x)"
   ]
  },
  {
   "cell_type": "code",
   "execution_count": 5,
   "metadata": {},
   "outputs": [],
   "source": [
    "def onlyEnglish(s):\n",
    "    ans = []\n",
    "    sym = [',','.','?','!','(',')','\\\\','/']\n",
    "    x=''\n",
    "    for c in s:\n",
    "        if c not in sym:\n",
    "            x+=c\n",
    "        else:\n",
    "            x+=' '\n",
    "    senten = x.split()\n",
    "    for i in senten:\n",
    "        if binarySearch(i) or len(i)==1:\n",
    "            ans.append(i)\n",
    "    if len(senten)==0:\n",
    "        return True\n",
    "    if len(ans)/len(senten)<0.7:\n",
    "        return True\n",
    "    return False  \n",
    "    "
   ]
  },
  {
   "cell_type": "code",
   "execution_count": 6,
   "metadata": {},
   "outputs": [],
   "source": [
    "def cleandata(s):\n",
    "    text = re.sub(r\"http\\S+\", \"\", s)\n",
    "    text = re.sub(r\"bit.ly\\S+\", \"\", text)\n",
    "    text = re.sub(r\"^\\d+[\\.,\\)]\", \"\", text)\n",
    "    text = re.sub(r\"\\w*X\\w*#\\d*\", \"\", text)\n",
    "    text = re.sub(r\"q*\\W\\w*X\\w*\\[\\w*\\]\",\"\",text)\n",
    "    text = re.sub(r\"r[A-Z]\\d*\\w*X\\W*\\w*\",\"\",text)\n",
    "    return text"
   ]
  },
  {
   "cell_type": "code",
   "execution_count": 8,
   "metadata": {},
   "outputs": [],
   "source": [
    "f = open(\"source.txt\", \"rb\")\n",
    "text = f.read().decode(errors='replace')\n",
    "lines_of_data = text.splitlines()\n",
    "tmp = []\n",
    "for i in range(len(lines_of_data)):\n",
    "    s = _removeNonAscii(lines_of_data[i])\n",
    "    s = cleandata(s)\n",
    "    if onlyEnglish(s):\n",
    "        continue\n",
    "    s=\"\\\"\"+s+\"\\\"\"\n",
    "    if len(s)<10:\n",
    "        continue\n",
    "    tmp.append(s)\n",
    "dat = {'post':tmp}\n",
    "data_df = pd.DataFrame(data=dat)\n",
    "data_df.to_csv('test.csv', index=False,  encoding='utf-8')"
   ]
  },
  {
   "cell_type": "code",
   "execution_count": null,
   "metadata": {},
   "outputs": [],
   "source": []
  },
  {
   "cell_type": "code",
   "execution_count": null,
   "metadata": {},
   "outputs": [],
   "source": []
  },
  {
   "cell_type": "code",
   "execution_count": null,
   "metadata": {},
   "outputs": [],
   "source": []
  },
  {
   "cell_type": "code",
   "execution_count": null,
   "metadata": {},
   "outputs": [],
   "source": []
  }
 ],
 "metadata": {
  "kernelspec": {
   "display_name": "Python 3",
   "language": "python",
   "name": "python3"
  },
  "language_info": {
   "codemirror_mode": {
    "name": "ipython",
    "version": 3
   },
   "file_extension": ".py",
   "mimetype": "text/x-python",
   "name": "python",
   "nbconvert_exporter": "python",
   "pygments_lexer": "ipython3",
   "version": "3.8.2"
  }
 },
 "nbformat": 4,
 "nbformat_minor": 4
}
