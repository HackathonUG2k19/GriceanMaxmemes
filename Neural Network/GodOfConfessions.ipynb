{
  "cells": [
    {
      "cell_type": "code",
      "metadata": {
        "id": "QAjq7h6nL3_w",
        "colab_type": "code",
        "colab": {
          "base_uri": "https://localhost:8080/",
          "height": 173
        },
        "outputId": "f6f272ed-9fbd-4f34-f077-875c1cab4a1e"
      },
      "source": [
        "%tensorflow_version 1.x\n",
        "!pip install -q gpt-2-simple\n",
        "import gpt_2_simple as gpt2\n",
        "from datetime import datetime\n",
        "from google.colab import files\n",
        "from tqdm import tqdm_notebook\n",
        "import random"
      ],
      "execution_count": 1,
      "outputs": [
        {
          "output_type": "stream",
          "text": [
            "TensorFlow 1.x selected.\n",
            "WARNING:tensorflow:\n",
            "The TensorFlow contrib module will not be included in TensorFlow 2.0.\n",
            "For more information, please see:\n",
            "  * https://github.com/tensorflow/community/blob/master/rfcs/20180907-contrib-sunset.md\n",
            "  * https://github.com/tensorflow/addons\n",
            "  * https://github.com/tensorflow/io (for I/O related ops)\n",
            "If you depend on functionality not listed there, please file an issue.\n",
            "\n"
          ],
          "name": "stdout"
        }
      ]
    },
    {
      "cell_type": "code",
      "metadata": {
        "id": "C9mWe16KMM40",
        "colab_type": "code",
        "colab": {
          "base_uri": "https://localhost:8080/",
          "height": 312
        },
        "outputId": "a95711e0-4b9d-4dd1-fa23-b6543917592b"
      },
      "source": [
        "!nvidia-smi"
      ],
      "execution_count": 2,
      "outputs": [
        {
          "output_type": "stream",
          "text": [
            "Sun May 24 15:34:57 2020       \n",
            "+-----------------------------------------------------------------------------+\n",
            "| NVIDIA-SMI 440.82       Driver Version: 418.67       CUDA Version: 10.1     |\n",
            "|-------------------------------+----------------------+----------------------+\n",
            "| GPU  Name        Persistence-M| Bus-Id        Disp.A | Volatile Uncorr. ECC |\n",
            "| Fan  Temp  Perf  Pwr:Usage/Cap|         Memory-Usage | GPU-Util  Compute M. |\n",
            "|===============================+======================+======================|\n",
            "|   0  Tesla P100-PCIE...  Off  | 00000000:00:04.0 Off |                    0 |\n",
            "| N/A   42C    P0    37W / 250W |      0MiB / 16280MiB |      0%      Default |\n",
            "+-------------------------------+----------------------+----------------------+\n",
            "                                                                               \n",
            "+-----------------------------------------------------------------------------+\n",
            "| Processes:                                                       GPU Memory |\n",
            "|  GPU       PID   Type   Process name                             Usage      |\n",
            "|=============================================================================|\n",
            "|  No running processes found                                                 |\n",
            "+-----------------------------------------------------------------------------+\n"
          ],
          "name": "stdout"
        }
      ]
    },
    {
      "cell_type": "code",
      "metadata": {
        "id": "upoNJiTsMRtW",
        "colab_type": "code",
        "colab": {
          "base_uri": "https://localhost:8080/",
          "height": 139
        },
        "outputId": "c6b51c23-d4b4-4fd1-a0bb-6d7a8cb9b3c8"
      },
      "source": [
        "gpt2.download_gpt2(model_name=\"124M\")"
      ],
      "execution_count": 3,
      "outputs": [
        {
          "output_type": "stream",
          "text": [
            "Fetching checkpoint: 1.05Mit [00:00, 373Mit/s]                                                      \n",
            "Fetching encoder.json: 1.05Mit [00:00, 136Mit/s]                                                    \n",
            "Fetching hparams.json: 1.05Mit [00:00, 987Mit/s]                                                    \n",
            "Fetching model.ckpt.data-00000-of-00001: 498Mit [00:02, 193Mit/s]                                   \n",
            "Fetching model.ckpt.index: 1.05Mit [00:00, 569Mit/s]                                                \n",
            "Fetching model.ckpt.meta: 1.05Mit [00:00, 223Mit/s]                                                 \n",
            "Fetching vocab.bpe: 1.05Mit [00:00, 168Mit/s]                                                       \n"
          ],
          "name": "stderr"
        }
      ]
    },
    {
      "cell_type": "code",
      "metadata": {
        "id": "vQdtDCcaMVNP",
        "colab_type": "code",
        "colab": {
          "base_uri": "https://localhost:8080/",
          "height": 34
        },
        "outputId": "9f844351-ce24-40b3-c457-a049bfc421df"
      },
      "source": [
        "gpt2.mount_gdrive()"
      ],
      "execution_count": 4,
      "outputs": [
        {
          "output_type": "stream",
          "text": [
            "Drive already mounted at /content/drive; to attempt to forcibly remount, call drive.mount(\"/content/drive\", force_remount=True).\n"
          ],
          "name": "stdout"
        }
      ]
    },
    {
      "cell_type": "code",
      "metadata": {
        "id": "oe2LdEAuMVxH",
        "colab_type": "code",
        "colab": {}
      },
      "source": [
        "file_name = \"iiit_source.txt\""
      ],
      "execution_count": 0,
      "outputs": []
    },
    {
      "cell_type": "code",
      "metadata": {
        "id": "47-FzTA6Mw5i",
        "colab_type": "code",
        "colab": {}
      },
      "source": [
        "gpt2.copy_file_from_gdrive(file_name)"
      ],
      "execution_count": 0,
      "outputs": []
    },
    {
      "cell_type": "code",
      "metadata": {
        "id": "ZH5k4GBtMzJt",
        "colab_type": "code",
        "colab": {
          "base_uri": "https://localhost:8080/",
          "height": 1000
        },
        "outputId": "d1b7f22a-dfdb-4ed6-8a94-55231cdde4f6"
      },
      "source": [
        "sess = gpt2.start_tf_sess()\n",
        "\n",
        "gpt2.finetune(sess,\n",
        "              dataset=file_name,\n",
        "              model_name='124M',\n",
        "              steps=500,\n",
        "              restore_from='fresh',\n",
        "              run_name='run1',\n",
        "              print_every=10,\n",
        "              sample_every=200,\n",
        "              save_every=500\n",
        "              )"
      ],
      "execution_count": 7,
      "outputs": [
        {
          "output_type": "stream",
          "text": [
            "WARNING:tensorflow:From /usr/local/lib/python3.6/dist-packages/gpt_2_simple/src/sample.py:17: where (from tensorflow.python.ops.array_ops) is deprecated and will be removed in a future version.\n",
            "Instructions for updating:\n",
            "Use tf.where in 2.0, which has the same broadcast rule as np.where\n",
            "Loading checkpoint models/124M/model.ckpt\n",
            "INFO:tensorflow:Restoring parameters from models/124M/model.ckpt\n"
          ],
          "name": "stdout"
        },
        {
          "output_type": "stream",
          "text": [
            "\r  0%|          | 0/1 [00:00<?, ?it/s]"
          ],
          "name": "stderr"
        },
        {
          "output_type": "stream",
          "text": [
            "Loading dataset...\n"
          ],
          "name": "stdout"
        },
        {
          "output_type": "stream",
          "text": [
            "100%|██████████| 1/1 [00:07<00:00,  7.62s/it]\n"
          ],
          "name": "stderr"
        },
        {
          "output_type": "stream",
          "text": [
            "dataset has 1561031 tokens\n",
            "Training...\n",
            "[10 | 17.71] loss=3.67 avg=3.67\n",
            "[20 | 30.21] loss=3.59 avg=3.63\n",
            "[30 | 42.68] loss=3.72 avg=3.66\n",
            "[40 | 55.16] loss=3.48 avg=3.62\n",
            "[50 | 67.65] loss=3.51 avg=3.60\n",
            "[60 | 80.13] loss=3.48 avg=3.58\n",
            "[70 | 92.62] loss=3.57 avg=3.58\n",
            "[80 | 105.10] loss=3.56 avg=3.57\n",
            "[90 | 117.58] loss=3.67 avg=3.58\n",
            "[100 | 130.06] loss=3.60 avg=3.59\n",
            "[110 | 142.56] loss=3.42 avg=3.57\n",
            "[120 | 155.03] loss=3.61 avg=3.57\n",
            "[130 | 167.51] loss=3.36 avg=3.56\n",
            "[140 | 180.00] loss=3.53 avg=3.55\n",
            "[150 | 192.48] loss=3.29 avg=3.53\n",
            "[160 | 204.95] loss=3.20 avg=3.51\n",
            "[170 | 217.43] loss=3.34 avg=3.50\n",
            "[180 | 229.92] loss=3.31 avg=3.49\n",
            "[190 | 242.44] loss=3.69 avg=3.50\n",
            "[200 | 254.94] loss=3.32 avg=3.49\n",
            "======== SAMPLE 1 ========\n",
            " the mexican people. I\\'d make a nice guy, but I can\\'t look him in the eye....X\"I know this is controversial but I genuinely feel I should have stopped eating chicken after this. I love eating chicken and I don\\'t really remember much about how I did it (I\\'m still able to remember because of what I ate), but after a while, I really feel ashamed of myself. I eat so much chicken and when I see people who eat it without getting really bothered (sometimes I don\\'t even eat them all at once because I still think about it, and that has hurt me) I feel embarrassed and I have no idea how I can do this. It\\'s really disgusting.\"X\"I have the same thought: if I have to pick up someone\\'s clothes and then walk to them to find them, would I want someone to do this? I don\\'t think I would choose my clothes if they were so small. But I would want to find them again someday, just so I can wear the clothes I just left there. Would I be uncomfortable wearing them while walking home?\"X\"To have a confession on a guy I had sex with a few times in the shower and not want to take it to the bathroom. To have a guy who\\'s always on all night long and always talking while we go to bed at 4 o\\'clock in the morning and I\\'m just worried about it. I really have not tried to break out of that.\"X\"To the dude I thought maybe I was a bit too nice for him... I just wish I didn\\'t have to try so hard with him for him to believe i didn\\'t have to say anything or feel like a jerk or something. I hope people are still thinking about it. Maybe it would have just been a little bit more awkward. I wish I could be the one to put those feelings into words.\"+\"I dont regret the fact that I said I was drunk before I went out to get a drink. I didnt like doing that at all, so I stopped, then it made me realize I am more of a drinker than I\\'m worth.\"=\"I dont understand how any of you can possibly think that your thoughts and actions would be considered by others as being \"funny\". I got drunk twice, the first time, and after, in my car. It was pretty funny, except I was driving and I just thought this would be funny. I\\'m glad that none of you thought such a thing or even dared to be like this.\"\n",
            "X\"Ive never thought that I fit a category on this page. I am completely at the point where I feel I should be a sex, romance, lesbian, bisexual, bisexual, or queer. I dont believe that these words describe me based on my sexuality nor does anyone who\\'s not gay think so.\"X\"To have a confession on a guy I had sex with a few times in the shower and not want to take it to the bathroom. To have a girl who talks like an animal and doesn\\'t want to take anything else out of our room. To have a girl who doesnt care about food and drinks and is just as interested as me. To have a girl who is a bit more judgmental and makes comments that make me uncomfortable. I dont think I could ever describe this to you.\"3\"I wish i could be the one who\\'s in my house, but I don\\'t have that opportunity. It is so hard to find a home for me because of all the homework and work. It\\'s a hassle at times.\"X\"To the guy who is too short to hold arms around me, and then yell at my ass that I can\\'t get a tan when they\\'re going down the stairs. Just one word. Fuck you.\"X\"I want to see what it\\'s like to be the guy who accidentally falls over in front of you and gets pushed around by the rest of your team or has some guy crush who was riding their motorcycle in the back to get them off. I feel the adrenaline as I see the others get pushed up, and they are too drunk on alcohol to notice because they didnt expect to see a girl who doesn\\'t care.\"X0\"I see people who are really nice and kind and are so sweet and happy and have great friendships. This is just a common thing.\"<\"I want to be the one to hold you responsible when you leave the room and tell you the truth. Let\\'s just say, you\\'re going to do that to me when I\\'m in the car.\">\"I have never realized how much the culture of \"Being Like Anything\" has made me look. When i try to explain this to them, they immediately take away their chance and pretend they don\\'t understand.\n",
            "After some time away for a while, i realized something was wrong at the moment. I have nothing to hide. I\n",
            "\n",
            "[210 | 277.47] loss=3.65 avg=3.50\n",
            "[220 | 289.96] loss=3.08 avg=3.48\n",
            "[230 | 302.44] loss=3.24 avg=3.47\n",
            "[240 | 314.92] loss=3.24 avg=3.46\n",
            "[250 | 327.39] loss=3.21 avg=3.44\n",
            "[260 | 339.86] loss=3.43 avg=3.44\n",
            "[270 | 352.34] loss=3.40 avg=3.44\n",
            "[280 | 364.79] loss=3.57 avg=3.45\n",
            "[290 | 377.28] loss=3.24 avg=3.44\n",
            "[300 | 389.76] loss=3.24 avg=3.43\n",
            "[310 | 402.23] loss=3.21 avg=3.42\n",
            "[320 | 414.70] loss=3.16 avg=3.41\n",
            "[330 | 427.17] loss=3.08 avg=3.40\n",
            "[340 | 439.65] loss=3.12 avg=3.39\n",
            "[350 | 452.12] loss=3.36 avg=3.39\n",
            "[360 | 464.60] loss=3.15 avg=3.38\n",
            "[370 | 477.07] loss=3.56 avg=3.39\n",
            "[380 | 489.53] loss=3.22 avg=3.38\n",
            "[390 | 502.00] loss=3.13 avg=3.38\n",
            "[400 | 514.48] loss=3.25 avg=3.37\n",
            "======== SAMPLE 1 ========\n",
            " heavily of people who are genuinely sad and angry. Please don\\'t try to make the page a place to vent your emotions. That hurts.X\\x7fI am a girl of 17 and I have never felt more disappointed and scared in my life. I am always surrounded by someone who has been through so much. Sometimes I wish I had met her before, but I think she is so beautiful, so kind, so perfect, so sweet. I wish I had done this with my first time encounter with her, when we were both in high college, but I don\\'t think I would ever have met her. It\\'s always a little difficult to meet someone who has already become a closer for me over time, but I like to talk to them about things that are affecting me, and I am always reminded of how much better I have been. It\\'s a shame that they chose to give me that opportunity. I love them and they have a great soul, but I really want to move on.\n",
            "\"If you read this blog, you will probably know what I am talking about. I am having a bad week and I am so angry. I am so sad. I really wanted to go out and go to places with some people, but I have never taken to them at all. I feel like every night is a struggle. I\\'m stuck. I just don\\'t know what to do.\n",
            "I can\\'t help but cry. Because I don\\'t know what to do anymore and I feel so tired. :( (Note: Some people with severe stress are also not going through the same type of relief I did.) I\\'d like to share here the feelings of a girl who came into this page after a week of being single. Like I told you, we\\'re friends, we\\'re on the same team. We have the best times, and we\\'ll talk about how great we\\'re together and what we\\'re going through in the future. Thank you, girl. I appreciate it.QI just want to talk about my mom. My dad was like, you know the thing, he is the sweetest, kindest, sweetest, most generous mom in iiit, he even gave me his big fat heart. So when I was 3 years old, I was able to donate my whole whole life\\'s worth, all of my family\\'s, and all of my friends\\'s. All of my friends that I met through iiit college who I still think about, my brothers, my family, all of my friends, my cousins, my parents. But when my mom saw that, she would take me to a friend\\'s house for food and get me to put all of my things in my mom\\'s box. She gave me a box full of presents, all my things, and it had all of our favorite things in it. But my mom said that I wasn\\'t allowed to receive donations from that place. And I guess I was thinking, who\\'s her? Anyway, mom told me, you don\\'t want to have a baby who gives you a bad name. I gave her my life\\'s worth of food and gave her the Christmas gifts.XI found a note on the piano playing \"The Bells\" out of nowhere, and I don\\'t get it. You\\'ve been listening to me since the summertime. If not from the song, why the fuck are you still reading? It\\'s a love song and it\\'s on the piano. I guess if I find you, I will come my way.I am the best person that my mom has ever called.\n",
            "\"Am I better than any other girl? Probably, but I\\'m also going to give up. I\\'m not that girl with the looks or fancy clothes and the attitude that would cause you more grief. I\\'m not that smart, I\\'m really only on my butt. And I am not that lucky. To me, you must be. I am going to give up on the chances. I am going to give up all that I have and just die in love with myself,\"\"I need to confess because I\\'m really going through a tough time but can someone let me know who it is.X\"When I was a freshman, I was one of the most depressed and suicidal people I know. I really liked my best friend but a lot of times she was afraid to talk to him or to talk to me because he was a newbie and it would just take a while for her to figure out what I was going through and what I wanted. She was worried that I was a joke or maybe he was not happy because he was trying to make contact through facebook and not talking. And I was just the most afraid of talking to him. \"XaI really don\\'t understand what is even a \"secret\". I love my boyfriend of two years and it just makes me so uncomfortable. I love\n",
            "\n",
            "[410 | 535.75] loss=3.37 avg=3.37\n",
            "[420 | 548.23] loss=2.89 avg=3.36\n",
            "[430 | 560.72] loss=3.16 avg=3.35\n",
            "[440 | 573.19] loss=3.12 avg=3.35\n",
            "[450 | 585.65] loss=3.41 avg=3.35\n",
            "[460 | 598.11] loss=3.13 avg=3.34\n",
            "[470 | 610.57] loss=3.25 avg=3.34\n",
            "[480 | 623.03] loss=3.24 avg=3.34\n",
            "[490 | 635.51] loss=3.14 avg=3.33\n",
            "[500 | 647.97] loss=3.10 avg=3.33\n",
            "Saving checkpoint/run1/model-500\n"
          ],
          "name": "stdout"
        }
      ]
    },
    {
      "cell_type": "code",
      "metadata": {
        "id": "ot-afF-qM1pf",
        "colab_type": "code",
        "colab": {}
      },
      "source": [
        "database = []\n",
        "total_confessions = 90"
      ],
      "execution_count": 0,
      "outputs": []
    },
    {
      "cell_type": "code",
      "metadata": {
        "id": "P1tPDEF5M9Ib",
        "colab_type": "code",
        "colab": {
          "base_uri": "https://localhost:8080/",
          "height": 118,
          "referenced_widgets": [
            "1a850a9ee6a84c849befdbc5faa31546",
            "07d78d5fcd89419abdfe6350bf5b9c81",
            "12caff4b9e714f5c83dc200a27d8735a",
            "7d3b3541a50f4b759dfa0d25294ca4a1",
            "c6082cce6d6f499b815587689b3901b2",
            "94264f40d4774ee09010e274525f4192",
            "cee0604aa74c4dd78b844c345818ce50",
            "0fd57b15d3874b47a795d61e34e3d26a"
          ]
        },
        "outputId": "dad3e5bf-74bd-4195-ae7f-7e37cfd355da"
      },
      "source": [
        "for _ in tqdm_notebook(range(total_confessions)):\n",
        "    \n",
        "    mein_jo_bola = random.randint(30, 1000)\n",
        "\n",
        "    temp_conf_string = gpt2.generate(sess,\n",
        "                length=mein_jo_bola,\n",
        "                temperature=0.7,\n",
        "                prefix=\"\",\n",
        "                nsamples=1,\n",
        "                batch_size=1,\n",
        "                sample_delim=\"\\n\", \n",
        "                return_as_list=True\n",
        "                )[0]\n",
        "\n",
        "    index = temp_conf_string.rfind('.')\n",
        "    conf_string = temp_conf_string[:index] + \".\"\n",
        "    \n",
        "    database.append(conf_string)"
      ],
      "execution_count": 9,
      "outputs": [
        {
          "output_type": "stream",
          "text": [
            "/usr/local/lib/python3.6/dist-packages/ipykernel_launcher.py:1: TqdmDeprecationWarning: This function will be removed in tqdm==5.0.0\n",
            "Please use `tqdm.notebook.tqdm` instead of `tqdm.tqdm_notebook`\n",
            "  \"\"\"Entry point for launching an IPython kernel.\n"
          ],
          "name": "stderr"
        },
        {
          "output_type": "display_data",
          "data": {
            "application/vnd.jupyter.widget-view+json": {
              "model_id": "1a850a9ee6a84c849befdbc5faa31546",
              "version_minor": 0,
              "version_major": 2
            },
            "text/plain": [
              "HBox(children=(FloatProgress(value=0.0, max=90.0), HTML(value='')))"
            ]
          },
          "metadata": {
            "tags": []
          }
        },
        {
          "output_type": "stream",
          "text": [
            "\n"
          ],
          "name": "stdout"
        }
      ]
    },
    {
      "cell_type": "code",
      "metadata": {
        "id": "AXyQXBnwNOsb",
        "colab_type": "code",
        "colab": {}
      },
      "source": [
        "with open(f\"/content/drive/My Drive/Text_Database/all_database.txt\", 'w', encoding='utf-8') as f:\n",
        "    for i in database:\n",
        "            if len(j) < 10:\n",
        "                continue\n",
        "            f.write(\"[\\\"\")\n",
        "            f.write(j)\n",
        "            f.write(\"\\\"],\")"
      ],
      "execution_count": 0,
      "outputs": []
    }
  ],
  "metadata": {
    "colab": {
      "name": "GodOfConfessions.ipynb",
      "provenance": [],
      "collapsed_sections": []
    },
    "kernelspec": {
      "name": "python3",
      "display_name": "Python 3"
    },
    "accelerator": "GPU",
    "widgets": {
      "application/vnd.jupyter.widget-state+json": {
        "1a850a9ee6a84c849befdbc5faa31546": {
          "model_module": "@jupyter-widgets/controls",
          "model_name": "HBoxModel",
          "state": {
            "_view_name": "HBoxView",
            "_dom_classes": [],
            "_model_name": "HBoxModel",
            "_view_module": "@jupyter-widgets/controls",
            "_model_module_version": "1.5.0",
            "_view_count": null,
            "_view_module_version": "1.5.0",
            "box_style": "",
            "layout": "IPY_MODEL_07d78d5fcd89419abdfe6350bf5b9c81",
            "_model_module": "@jupyter-widgets/controls",
            "children": [
              "IPY_MODEL_12caff4b9e714f5c83dc200a27d8735a",
              "IPY_MODEL_7d3b3541a50f4b759dfa0d25294ca4a1"
            ]
          }
        },
        "07d78d5fcd89419abdfe6350bf5b9c81": {
          "model_module": "@jupyter-widgets/base",
          "model_name": "LayoutModel",
          "state": {
            "_view_name": "LayoutView",
            "grid_template_rows": null,
            "right": null,
            "justify_content": null,
            "_view_module": "@jupyter-widgets/base",
            "overflow": null,
            "_model_module_version": "1.2.0",
            "_view_count": null,
            "flex_flow": null,
            "width": null,
            "min_width": null,
            "border": null,
            "align_items": null,
            "bottom": null,
            "_model_module": "@jupyter-widgets/base",
            "top": null,
            "grid_column": null,
            "overflow_y": null,
            "overflow_x": null,
            "grid_auto_flow": null,
            "grid_area": null,
            "grid_template_columns": null,
            "flex": null,
            "_model_name": "LayoutModel",
            "justify_items": null,
            "grid_row": null,
            "max_height": null,
            "align_content": null,
            "visibility": null,
            "align_self": null,
            "height": null,
            "min_height": null,
            "padding": null,
            "grid_auto_rows": null,
            "grid_gap": null,
            "max_width": null,
            "order": null,
            "_view_module_version": "1.2.0",
            "grid_template_areas": null,
            "object_position": null,
            "object_fit": null,
            "grid_auto_columns": null,
            "margin": null,
            "display": null,
            "left": null
          }
        },
        "12caff4b9e714f5c83dc200a27d8735a": {
          "model_module": "@jupyter-widgets/controls",
          "model_name": "FloatProgressModel",
          "state": {
            "_view_name": "ProgressView",
            "style": "IPY_MODEL_c6082cce6d6f499b815587689b3901b2",
            "_dom_classes": [],
            "description": "100%",
            "_model_name": "FloatProgressModel",
            "bar_style": "success",
            "max": 90,
            "_view_module": "@jupyter-widgets/controls",
            "_model_module_version": "1.5.0",
            "value": 90,
            "_view_count": null,
            "_view_module_version": "1.5.0",
            "orientation": "horizontal",
            "min": 0,
            "description_tooltip": null,
            "_model_module": "@jupyter-widgets/controls",
            "layout": "IPY_MODEL_94264f40d4774ee09010e274525f4192"
          }
        },
        "7d3b3541a50f4b759dfa0d25294ca4a1": {
          "model_module": "@jupyter-widgets/controls",
          "model_name": "HTMLModel",
          "state": {
            "_view_name": "HTMLView",
            "style": "IPY_MODEL_cee0604aa74c4dd78b844c345818ce50",
            "_dom_classes": [],
            "description": "",
            "_model_name": "HTMLModel",
            "placeholder": "​",
            "_view_module": "@jupyter-widgets/controls",
            "_model_module_version": "1.5.0",
            "value": " 90/90 [21:37&lt;00:00, 14.42s/it]",
            "_view_count": null,
            "_view_module_version": "1.5.0",
            "description_tooltip": null,
            "_model_module": "@jupyter-widgets/controls",
            "layout": "IPY_MODEL_0fd57b15d3874b47a795d61e34e3d26a"
          }
        },
        "c6082cce6d6f499b815587689b3901b2": {
          "model_module": "@jupyter-widgets/controls",
          "model_name": "ProgressStyleModel",
          "state": {
            "_view_name": "StyleView",
            "_model_name": "ProgressStyleModel",
            "description_width": "initial",
            "_view_module": "@jupyter-widgets/base",
            "_model_module_version": "1.5.0",
            "_view_count": null,
            "_view_module_version": "1.2.0",
            "bar_color": null,
            "_model_module": "@jupyter-widgets/controls"
          }
        },
        "94264f40d4774ee09010e274525f4192": {
          "model_module": "@jupyter-widgets/base",
          "model_name": "LayoutModel",
          "state": {
            "_view_name": "LayoutView",
            "grid_template_rows": null,
            "right": null,
            "justify_content": null,
            "_view_module": "@jupyter-widgets/base",
            "overflow": null,
            "_model_module_version": "1.2.0",
            "_view_count": null,
            "flex_flow": null,
            "width": null,
            "min_width": null,
            "border": null,
            "align_items": null,
            "bottom": null,
            "_model_module": "@jupyter-widgets/base",
            "top": null,
            "grid_column": null,
            "overflow_y": null,
            "overflow_x": null,
            "grid_auto_flow": null,
            "grid_area": null,
            "grid_template_columns": null,
            "flex": null,
            "_model_name": "LayoutModel",
            "justify_items": null,
            "grid_row": null,
            "max_height": null,
            "align_content": null,
            "visibility": null,
            "align_self": null,
            "height": null,
            "min_height": null,
            "padding": null,
            "grid_auto_rows": null,
            "grid_gap": null,
            "max_width": null,
            "order": null,
            "_view_module_version": "1.2.0",
            "grid_template_areas": null,
            "object_position": null,
            "object_fit": null,
            "grid_auto_columns": null,
            "margin": null,
            "display": null,
            "left": null
          }
        },
        "cee0604aa74c4dd78b844c345818ce50": {
          "model_module": "@jupyter-widgets/controls",
          "model_name": "DescriptionStyleModel",
          "state": {
            "_view_name": "StyleView",
            "_model_name": "DescriptionStyleModel",
            "description_width": "",
            "_view_module": "@jupyter-widgets/base",
            "_model_module_version": "1.5.0",
            "_view_count": null,
            "_view_module_version": "1.2.0",
            "_model_module": "@jupyter-widgets/controls"
          }
        },
        "0fd57b15d3874b47a795d61e34e3d26a": {
          "model_module": "@jupyter-widgets/base",
          "model_name": "LayoutModel",
          "state": {
            "_view_name": "LayoutView",
            "grid_template_rows": null,
            "right": null,
            "justify_content": null,
            "_view_module": "@jupyter-widgets/base",
            "overflow": null,
            "_model_module_version": "1.2.0",
            "_view_count": null,
            "flex_flow": null,
            "width": null,
            "min_width": null,
            "border": null,
            "align_items": null,
            "bottom": null,
            "_model_module": "@jupyter-widgets/base",
            "top": null,
            "grid_column": null,
            "overflow_y": null,
            "overflow_x": null,
            "grid_auto_flow": null,
            "grid_area": null,
            "grid_template_columns": null,
            "flex": null,
            "_model_name": "LayoutModel",
            "justify_items": null,
            "grid_row": null,
            "max_height": null,
            "align_content": null,
            "visibility": null,
            "align_self": null,
            "height": null,
            "min_height": null,
            "padding": null,
            "grid_auto_rows": null,
            "grid_gap": null,
            "max_width": null,
            "order": null,
            "_view_module_version": "1.2.0",
            "grid_template_areas": null,
            "object_position": null,
            "object_fit": null,
            "grid_auto_columns": null,
            "margin": null,
            "display": null,
            "left": null
          }
        }
      }
    }
  },
  "nbformat": 4,
  "nbformat_minor": 0
}