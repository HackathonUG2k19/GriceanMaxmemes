{
  "nbformat": 4,
  "nbformat_minor": 0,
  "metadata": {
    "colab": {
      "name": "ConfessionGenerator.ipynb",
      "provenance": [],
      "collapsed_sections": []
    },
    "kernelspec": {
      "name": "python3",
      "display_name": "Python 3"
    },
    "accelerator": "GPU",
    "widgets": {
      "application/vnd.jupyter.widget-state+json": {
        "c64bd5909c7d4cd98fa92199dba7ed92": {
          "model_module": "@jupyter-widgets/controls",
          "model_name": "HBoxModel",
          "state": {
            "_view_name": "HBoxView",
            "_dom_classes": [],
            "_model_name": "HBoxModel",
            "_view_module": "@jupyter-widgets/controls",
            "_model_module_version": "1.5.0",
            "_view_count": null,
            "_view_module_version": "1.5.0",
            "box_style": "",
            "layout": "IPY_MODEL_6742921697dc4c1aace3a2ef8b6068ee",
            "_model_module": "@jupyter-widgets/controls",
            "children": [
              "IPY_MODEL_af6e483ea941407cbf60318046f55069",
              "IPY_MODEL_5773ef940ca74aca8640116c726b5744"
            ]
          }
        },
        "6742921697dc4c1aace3a2ef8b6068ee": {
          "model_module": "@jupyter-widgets/base",
          "model_name": "LayoutModel",
          "state": {
            "_view_name": "LayoutView",
            "grid_template_rows": null,
            "right": null,
            "justify_content": null,
            "_view_module": "@jupyter-widgets/base",
            "overflow": null,
            "_model_module_version": "1.2.0",
            "_view_count": null,
            "flex_flow": null,
            "width": null,
            "min_width": null,
            "border": null,
            "align_items": null,
            "bottom": null,
            "_model_module": "@jupyter-widgets/base",
            "top": null,
            "grid_column": null,
            "overflow_y": null,
            "overflow_x": null,
            "grid_auto_flow": null,
            "grid_area": null,
            "grid_template_columns": null,
            "flex": null,
            "_model_name": "LayoutModel",
            "justify_items": null,
            "grid_row": null,
            "max_height": null,
            "align_content": null,
            "visibility": null,
            "align_self": null,
            "height": null,
            "min_height": null,
            "padding": null,
            "grid_auto_rows": null,
            "grid_gap": null,
            "max_width": null,
            "order": null,
            "_view_module_version": "1.2.0",
            "grid_template_areas": null,
            "object_position": null,
            "object_fit": null,
            "grid_auto_columns": null,
            "margin": null,
            "display": null,
            "left": null
          }
        },
        "af6e483ea941407cbf60318046f55069": {
          "model_module": "@jupyter-widgets/controls",
          "model_name": "FloatProgressModel",
          "state": {
            "_view_name": "ProgressView",
            "style": "IPY_MODEL_0e9730c713f94feb9aca87ce3d5e6b87",
            "_dom_classes": [],
            "description": "100%",
            "_model_name": "FloatProgressModel",
            "bar_style": "success",
            "max": 300,
            "_view_module": "@jupyter-widgets/controls",
            "_model_module_version": "1.5.0",
            "value": 300,
            "_view_count": null,
            "_view_module_version": "1.5.0",
            "orientation": "horizontal",
            "min": 0,
            "description_tooltip": null,
            "_model_module": "@jupyter-widgets/controls",
            "layout": "IPY_MODEL_819850c8f1664e09a549662b5385cf0e"
          }
        },
        "5773ef940ca74aca8640116c726b5744": {
          "model_module": "@jupyter-widgets/controls",
          "model_name": "HTMLModel",
          "state": {
            "_view_name": "HTMLView",
            "style": "IPY_MODEL_d608a63e39b8437eae7cb698083ded73",
            "_dom_classes": [],
            "description": "",
            "_model_name": "HTMLModel",
            "placeholder": "​",
            "_view_module": "@jupyter-widgets/controls",
            "_model_module_version": "1.5.0",
            "value": " 300/300 [09:22&lt;00:00,  1.88s/it]",
            "_view_count": null,
            "_view_module_version": "1.5.0",
            "description_tooltip": null,
            "_model_module": "@jupyter-widgets/controls",
            "layout": "IPY_MODEL_4b0ebf802d76471694e39d22d2f53961"
          }
        },
        "0e9730c713f94feb9aca87ce3d5e6b87": {
          "model_module": "@jupyter-widgets/controls",
          "model_name": "ProgressStyleModel",
          "state": {
            "_view_name": "StyleView",
            "_model_name": "ProgressStyleModel",
            "description_width": "initial",
            "_view_module": "@jupyter-widgets/base",
            "_model_module_version": "1.5.0",
            "_view_count": null,
            "_view_module_version": "1.2.0",
            "bar_color": null,
            "_model_module": "@jupyter-widgets/controls"
          }
        },
        "819850c8f1664e09a549662b5385cf0e": {
          "model_module": "@jupyter-widgets/base",
          "model_name": "LayoutModel",
          "state": {
            "_view_name": "LayoutView",
            "grid_template_rows": null,
            "right": null,
            "justify_content": null,
            "_view_module": "@jupyter-widgets/base",
            "overflow": null,
            "_model_module_version": "1.2.0",
            "_view_count": null,
            "flex_flow": null,
            "width": null,
            "min_width": null,
            "border": null,
            "align_items": null,
            "bottom": null,
            "_model_module": "@jupyter-widgets/base",
            "top": null,
            "grid_column": null,
            "overflow_y": null,
            "overflow_x": null,
            "grid_auto_flow": null,
            "grid_area": null,
            "grid_template_columns": null,
            "flex": null,
            "_model_name": "LayoutModel",
            "justify_items": null,
            "grid_row": null,
            "max_height": null,
            "align_content": null,
            "visibility": null,
            "align_self": null,
            "height": null,
            "min_height": null,
            "padding": null,
            "grid_auto_rows": null,
            "grid_gap": null,
            "max_width": null,
            "order": null,
            "_view_module_version": "1.2.0",
            "grid_template_areas": null,
            "object_position": null,
            "object_fit": null,
            "grid_auto_columns": null,
            "margin": null,
            "display": null,
            "left": null
          }
        },
        "d608a63e39b8437eae7cb698083ded73": {
          "model_module": "@jupyter-widgets/controls",
          "model_name": "DescriptionStyleModel",
          "state": {
            "_view_name": "StyleView",
            "_model_name": "DescriptionStyleModel",
            "description_width": "",
            "_view_module": "@jupyter-widgets/base",
            "_model_module_version": "1.5.0",
            "_view_count": null,
            "_view_module_version": "1.2.0",
            "_model_module": "@jupyter-widgets/controls"
          }
        },
        "4b0ebf802d76471694e39d22d2f53961": {
          "model_module": "@jupyter-widgets/base",
          "model_name": "LayoutModel",
          "state": {
            "_view_name": "LayoutView",
            "grid_template_rows": null,
            "right": null,
            "justify_content": null,
            "_view_module": "@jupyter-widgets/base",
            "overflow": null,
            "_model_module_version": "1.2.0",
            "_view_count": null,
            "flex_flow": null,
            "width": null,
            "min_width": null,
            "border": null,
            "align_items": null,
            "bottom": null,
            "_model_module": "@jupyter-widgets/base",
            "top": null,
            "grid_column": null,
            "overflow_y": null,
            "overflow_x": null,
            "grid_auto_flow": null,
            "grid_area": null,
            "grid_template_columns": null,
            "flex": null,
            "_model_name": "LayoutModel",
            "justify_items": null,
            "grid_row": null,
            "max_height": null,
            "align_content": null,
            "visibility": null,
            "align_self": null,
            "height": null,
            "min_height": null,
            "padding": null,
            "grid_auto_rows": null,
            "grid_gap": null,
            "max_width": null,
            "order": null,
            "_view_module_version": "1.2.0",
            "grid_template_areas": null,
            "object_position": null,
            "object_fit": null,
            "grid_auto_columns": null,
            "margin": null,
            "display": null,
            "left": null
          }
        }
      }
    }
  },
  "cells": [
    {
      "cell_type": "markdown",
      "metadata": {
        "id": "r2mE7r1XI_K4",
        "colab_type": "text"
      },
      "source": [
        "# `The Neural Network`"
      ]
    },
    {
      "cell_type": "code",
      "metadata": {
        "id": "nkumZNmuBS3c",
        "colab_type": "code",
        "colab": {
          "base_uri": "https://localhost:8080/",
          "height": 34
        },
        "outputId": "15a4dfea-d7fd-451e-d08e-25594b91f0eb"
      },
      "source": [
        "from google.colab import drive\n",
        "drive.mount('/content/drive')"
      ],
      "execution_count": 77,
      "outputs": [
        {
          "output_type": "stream",
          "text": [
            "Drive already mounted at /content/drive; to attempt to forcibly remount, call drive.mount(\"/content/drive\", force_remount=True).\n"
          ],
          "name": "stdout"
        }
      ]
    },
    {
      "cell_type": "code",
      "metadata": {
        "id": "qWeMakG8YTtR",
        "colab_type": "code",
        "colab": {
          "base_uri": "https://localhost:8080/",
          "height": 156
        },
        "outputId": "90c2307f-4665-4f2f-a76f-c645f662d12f"
      },
      "source": [
        "%%shell\n",
        "\n",
        "rm -rf training_checkpoints\n",
        "rm -rf Confessions-Generator\n",
        "rm text_data.txt\n",
        "git clone https://github.com/AurumnPegasus/Confessions-Generator.git"
      ],
      "execution_count": 78,
      "outputs": [
        {
          "output_type": "stream",
          "text": [
            "rm: cannot remove 'text_data.txt': No such file or directory\n",
            "Cloning into 'Confessions-Generator'...\n",
            "remote: Enumerating objects: 148, done.\u001b[K\n",
            "remote: Counting objects: 100% (148/148), done.\u001b[K\n",
            "remote: Compressing objects: 100% (113/113), done.\u001b[K\n",
            "remote: Total 148 (delta 56), reused 115 (delta 28), pack-reused 0\u001b[K\n",
            "Receiving objects: 100% (148/148), 30.47 MiB | 27.90 MiB/s, done.\n",
            "Resolving deltas: 100% (56/56), done.\n"
          ],
          "name": "stdout"
        },
        {
          "output_type": "execute_result",
          "data": {
            "text/plain": [
              ""
            ]
          },
          "metadata": {
            "tags": []
          },
          "execution_count": 78
        }
      ]
    },
    {
      "cell_type": "code",
      "metadata": {
        "id": "feerEKM5Gwsg",
        "colab_type": "code",
        "colab": {}
      },
      "source": [
        "# Netowrk Requirements\n",
        "import numpy as np\n",
        "import tensorflow as tf\n",
        "\n",
        "# Uitlities\n",
        "import os\n",
        "import random\n",
        "import json\n",
        "import matplotlib.pyplot as plt\n",
        "from tqdm import tqdm_notebook"
      ],
      "execution_count": 0,
      "outputs": []
    },
    {
      "cell_type": "code",
      "metadata": {
        "id": "pDgYNTpnQWmE",
        "colab_type": "code",
        "colab": {}
      },
      "source": [
        "# NN Requirements\n",
        "# path to data file\n",
        "path_to_file = \"/content/Confessions-Generator/DataSet/iiit_source.txt\"\n",
        "# The maximum length sentence we want for a single input in characters\n",
        "seq_length = 100\n",
        "# Batch size\n",
        "BATCH_SIZE = 256\n",
        "# Buffer size to shuffle the dataset\n",
        "BUFFER_SIZE = 10000\n",
        "# The embedding dimension\n",
        "embedding_dim = 256\n",
        "# Number of RNN units here, LSTM units are used\n",
        "rnn_units = 1024\n",
        "# Total number of times the model sees the data\n",
        "EPOCHS = 10\n",
        "\n",
        "# Databse Requirements\n",
        "# total confessions\n",
        "database_size = 300"
      ],
      "execution_count": 0,
      "outputs": []
    },
    {
      "cell_type": "code",
      "metadata": {
        "id": "Fn6xHXBzeVYt",
        "colab_type": "code",
        "colab": {}
      },
      "source": [
        ""
      ],
      "execution_count": 0,
      "outputs": []
    },
    {
      "cell_type": "code",
      "metadata": {
        "id": "EEJqN4vSG88X",
        "colab_type": "code",
        "colab": {
          "base_uri": "https://localhost:8080/",
          "height": 34
        },
        "outputId": "a656fb3e-218c-421e-8a76-d2bf2d71f3f1"
      },
      "source": [
        "# Read the file in utf-8 format\n",
        "text = open(path_to_file, 'rb').read().decode(encoding='utf-8')\n",
        "\n",
        "# length of text = number of characters in it\n",
        "print ('Length of text: {} characters'.format(len(text)))"
      ],
      "execution_count": 81,
      "outputs": [
        {
          "output_type": "stream",
          "text": [
            "Length of text: 6482303 characters\n"
          ],
          "name": "stdout"
        }
      ]
    },
    {
      "cell_type": "code",
      "metadata": {
        "id": "yM1WnPbtG_J1",
        "colab_type": "code",
        "colab": {
          "base_uri": "https://localhost:8080/",
          "height": 89
        },
        "outputId": "da743178-7a4a-4aae-91a4-49de081d9ea9"
      },
      "source": [
        "# Take a look at the first 250 characters in text\n",
        "print(text[:1000])"
      ],
      "execution_count": 82,
      "outputs": [
        {
          "output_type": "stream",
          "text": [
            " Sometimes when I get A\\'s on big tests I jerk off on my tests. That being said I get really annoyed when the prof doesn\\'t let me have my test back.c30) why is our generation obsessed with 2010 pop trash, like party in the india wasn\\'t even good thenX31) Maybe this confessions page is dead because the admin doesn\\'t check often :) (seriously, I\\'m writing this on October 30, 2018). And maybe that\\'s the way it was meant to be :(.\n",
            "*note from admin* nah im recruiting mods to help me so if you want to be a mod...`28) any boy out there want to pretend to be my boyfriend so i can tell my mom i\\'m dating someone27) Tbh this page would be a lot less dead if you switched it to iiit Crushes and kept the anonymous submission format.\n",
            "*note from admin* all of the submissions ARE anonymous.26) Hot take: Brett Kavanaugh is thicccccc I\\'d pound beers with him any day. My man killin the game with his creative asf drinking games woooooooj29) I just want to be in a relationship for the winter because \n"
          ],
          "name": "stdout"
        }
      ]
    },
    {
      "cell_type": "code",
      "metadata": {
        "id": "ou34GjGMHD6f",
        "colab_type": "code",
        "colab": {
          "base_uri": "https://localhost:8080/",
          "height": 34
        },
        "outputId": "a0aef794-3b84-494b-ac4e-e558626d8326"
      },
      "source": [
        "# The unique characters in the file\n",
        "vocab = sorted(set(text))\n",
        "print ('{} unique characters'.format(len(vocab)))"
      ],
      "execution_count": 83,
      "outputs": [
        {
          "output_type": "stream",
          "text": [
            "96 unique characters\n"
          ],
          "name": "stdout"
        }
      ]
    },
    {
      "cell_type": "code",
      "metadata": {
        "id": "cKFpBvpXHGjH",
        "colab_type": "code",
        "colab": {}
      },
      "source": [
        "# Creating a mapping from unique characters to indices\n",
        "char2idx = {c:i for i, c in enumerate(vocab)}\n",
        "# Creating a reverse mapping as well\n",
        "idx2char = np.array(vocab)\n",
        "\n",
        "# Convert the entire text to their encodings\n",
        "text_as_int = np.array([char2idx[c] for c in text])"
      ],
      "execution_count": 0,
      "outputs": []
    },
    {
      "cell_type": "code",
      "metadata": {
        "id": "AuSKn0vjHO9F",
        "colab_type": "code",
        "colab": {}
      },
      "source": [
        "# +1 because we shift by 1 character each time\n",
        "examples_per_epoch = len(text)//(seq_length+1)\n",
        "\n",
        "# Create training examples / targets\n",
        "char_dataset = tf.data.Dataset.from_tensor_slices(text_as_int)"
      ],
      "execution_count": 0,
      "outputs": []
    },
    {
      "cell_type": "code",
      "metadata": {
        "id": "aOk7eW89HWne",
        "colab_type": "code",
        "colab": {}
      },
      "source": [
        "sequences = char_dataset.batch(seq_length+1, drop_remainder=True)"
      ],
      "execution_count": 0,
      "outputs": []
    },
    {
      "cell_type": "code",
      "metadata": {
        "id": "MCopxIPVHZy9",
        "colab_type": "code",
        "colab": {}
      },
      "source": [
        "def split_input_target(chunk):\n",
        "    # splits the input chunk\n",
        "    input_text = chunk[:-1]\n",
        "    target_text = chunk[1:]\n",
        "    return input_text, target_text\n",
        "\n",
        "dataset = sequences.map(split_input_target)"
      ],
      "execution_count": 0,
      "outputs": []
    },
    {
      "cell_type": "code",
      "metadata": {
        "id": "WxNPMVHUHjyG",
        "colab_type": "code",
        "colab": {}
      },
      "source": [
        "# shuffle the dataset\n",
        "dataset = dataset.shuffle(BUFFER_SIZE).batch(BATCH_SIZE, drop_remainder=True)"
      ],
      "execution_count": 0,
      "outputs": []
    },
    {
      "cell_type": "code",
      "metadata": {
        "id": "0LLIAj-OHlu7",
        "colab_type": "code",
        "colab": {}
      },
      "source": [
        "# Length of the vocabulary in chars\n",
        "vocab_size = len(vocab)"
      ],
      "execution_count": 0,
      "outputs": []
    },
    {
      "cell_type": "code",
      "metadata": {
        "id": "mnIAXlIzHnlv",
        "colab_type": "code",
        "colab": {}
      },
      "source": [
        "def build_model(vocab_size, embedding_dim, rnn_units, batch_size):\n",
        "  \"\"\"\n",
        "  Builds the Sequential Model, using Embeddings to create inputs to tensors of specified dimensions, and then find dependencies using LSTM units. At the end is the dense layer.\n",
        "\n",
        "  input params:\n",
        "  vocab_size: nubmer of unique characters\n",
        "  embedding_dim: number of dimension in the embedding tensor\n",
        "  rnn_units: self explanatory\n",
        "  batch_size: number of samples seen before gradient updation\n",
        "\n",
        "  output:\n",
        "  model created\n",
        "  \"\"\"\n",
        "  \n",
        "  model = tf.keras.Sequential([\n",
        "    tf.keras.layers.Embedding(vocab_size, embedding_dim,\n",
        "                              batch_input_shape=[batch_size, None]),\n",
        "    tf.keras.layers.LSTM(rnn_units,\n",
        "                        return_sequences=True,\n",
        "                        stateful=True,\n",
        "                        recurrent_initializer='glorot_uniform'),\n",
        "    tf.keras.layers.Dense(vocab_size)\n",
        "  ])\n",
        "  return model"
      ],
      "execution_count": 0,
      "outputs": []
    },
    {
      "cell_type": "code",
      "metadata": {
        "id": "e5TVrtrzHoxp",
        "colab_type": "code",
        "colab": {}
      },
      "source": [
        "model = build_model(\n",
        "  vocab_size = len(vocab),\n",
        "  embedding_dim=embedding_dim,\n",
        "  rnn_units=rnn_units,\n",
        "  batch_size=BATCH_SIZE)"
      ],
      "execution_count": 0,
      "outputs": []
    },
    {
      "cell_type": "code",
      "metadata": {
        "id": "CIpB1joSHr45",
        "colab_type": "code",
        "colab": {
          "base_uri": "https://localhost:8080/",
          "height": 260
        },
        "outputId": "5b986972-b9be-43b8-a0b6-5c699497fa29"
      },
      "source": [
        "model.summary()"
      ],
      "execution_count": 92,
      "outputs": [
        {
          "output_type": "stream",
          "text": [
            "Model: \"sequential_6\"\n",
            "_________________________________________________________________\n",
            "Layer (type)                 Output Shape              Param #   \n",
            "=================================================================\n",
            "embedding_6 (Embedding)      (256, None, 256)          24576     \n",
            "_________________________________________________________________\n",
            "lstm_6 (LSTM)                (256, None, 1024)         5246976   \n",
            "_________________________________________________________________\n",
            "dense_6 (Dense)              (256, None, 96)           98400     \n",
            "=================================================================\n",
            "Total params: 5,369,952\n",
            "Trainable params: 5,369,952\n",
            "Non-trainable params: 0\n",
            "_________________________________________________________________\n"
          ],
          "name": "stdout"
        }
      ]
    },
    {
      "cell_type": "code",
      "metadata": {
        "id": "CxE_oH8NEglg",
        "colab_type": "code",
        "colab": {}
      },
      "source": [
        "def custom_loss(labels, logits):\n",
        "    return tf.keras.losses.sparse_categorical_crossentropy(labels, logits, from_logits=True)"
      ],
      "execution_count": 0,
      "outputs": []
    },
    {
      "cell_type": "code",
      "metadata": {
        "id": "z5GU_RyDH6dl",
        "colab_type": "code",
        "colab": {}
      },
      "source": [
        "model.compile(optimizer='adam', loss=custom_loss)"
      ],
      "execution_count": 0,
      "outputs": []
    },
    {
      "cell_type": "code",
      "metadata": {
        "id": "I6Z4h-XdJTEb",
        "colab_type": "code",
        "colab": {}
      },
      "source": [
        "# Directory where the checkpoints will be saved\n",
        "checkpoint_dir = './training_checkpoints'\n",
        "# Name of the checkpoint files\n",
        "checkpoint_prefix = os.path.join(checkpoint_dir, \"ckpt_{epoch}\")\n",
        "\n",
        "checkpoint_callback=tf.keras.callbacks.ModelCheckpoint(\n",
        "    filepath=checkpoint_prefix,\n",
        "    save_weights_only=True)\n"
      ],
      "execution_count": 0,
      "outputs": []
    },
    {
      "cell_type": "code",
      "metadata": {
        "id": "sy67g_xOIFzK",
        "colab_type": "code",
        "colab": {
          "base_uri": "https://localhost:8080/",
          "height": 364
        },
        "outputId": "c2e2ef88-87fd-46f1-e250-748c3e8167fa"
      },
      "source": [
        "history = model.fit(dataset, epochs=EPOCHS, callbacks=checkpoint_callback)"
      ],
      "execution_count": 96,
      "outputs": [
        {
          "output_type": "stream",
          "text": [
            "Epoch 1/10\n",
            "250/250 [==============================] - 124s 494ms/step - loss: 2.5211\n",
            "Epoch 2/10\n",
            "250/250 [==============================] - 124s 494ms/step - loss: 1.7824\n",
            "Epoch 3/10\n",
            "250/250 [==============================] - 124s 495ms/step - loss: 1.5474\n",
            "Epoch 4/10\n",
            "250/250 [==============================] - 124s 495ms/step - loss: 1.4472\n",
            "Epoch 5/10\n",
            "250/250 [==============================] - 124s 494ms/step - loss: 1.3893\n",
            "Epoch 6/10\n",
            "250/250 [==============================] - 124s 494ms/step - loss: 1.3502\n",
            "Epoch 7/10\n",
            "250/250 [==============================] - 124s 495ms/step - loss: 1.3218\n",
            "Epoch 8/10\n",
            "250/250 [==============================] - 124s 496ms/step - loss: 1.2992\n",
            "Epoch 9/10\n",
            "250/250 [==============================] - 124s 495ms/step - loss: 1.2799\n",
            "Epoch 10/10\n",
            "250/250 [==============================] - 124s 497ms/step - loss: 1.2634\n"
          ],
          "name": "stdout"
        }
      ]
    },
    {
      "cell_type": "code",
      "metadata": {
        "id": "jYXqgTVGKmQT",
        "colab_type": "code",
        "colab": {
          "base_uri": "https://localhost:8080/",
          "height": 295
        },
        "outputId": "53d6fc55-7b6b-4a98-fde3-52922b029245"
      },
      "source": [
        "plt.plot(history.history['loss'])\n",
        "plt.title('model loss')\n",
        "plt.ylabel('loss')\n",
        "plt.xlabel('epoch')\n",
        "plt.show()"
      ],
      "execution_count": 97,
      "outputs": [
        {
          "output_type": "display_data",
          "data": {
            "image/png": "[encoded data removed]",
            "text/plain": [
              "<Figure size 432x288 with 1 Axes>"
            ]
          },
          "metadata": {
            "tags": [],
            "needs_background": "light"
          }
        }
      ]
    },
    {
      "cell_type": "code",
      "metadata": {
        "id": "z9mB4WfmI2FN",
        "colab_type": "code",
        "colab": {
          "base_uri": "https://localhost:8080/",
          "height": 469
        },
        "outputId": "54314ce1-92b4-458d-86b5-554531135a29"
      },
      "source": [
        "# Do it again, if needed\n",
        "\n",
        "model = build_model(vocab_size, embedding_dim, rnn_units, batch_size=BATCH_SIZE)\n",
        "model.load_weights(tf.train.latest_checkpoint(checkpoint_dir))\n",
        "model.build(tf.TensorShape([1, None]))\n",
        "model.compile(optimizer='adam', loss=custom_loss)\n",
        "\n",
        "new_history = model.fit(dataset, epochs=5, callbacks=checkpoint_callback)\n",
        "\n",
        "plt.plot(new_history.history['loss'])\n",
        "plt.title('model loss')\n",
        "plt.ylabel('loss')\n",
        "plt.xlabel('epoch')\n",
        "plt.show()"
      ],
      "execution_count": 112,
      "outputs": [
        {
          "output_type": "stream",
          "text": [
            "Epoch 1/5\n",
            "250/250 [==============================] - 123s 494ms/step - loss: 1.2510\n",
            "Epoch 2/5\n",
            "250/250 [==============================] - 124s 494ms/step - loss: 1.2356\n",
            "Epoch 3/5\n",
            "250/250 [==============================] - 123s 494ms/step - loss: 1.2232\n",
            "Epoch 4/5\n",
            "250/250 [==============================] - 124s 494ms/step - loss: 1.2119\n",
            "Epoch 5/5\n",
            "250/250 [==============================] - 124s 495ms/step - loss: 1.2006\n"
          ],
          "name": "stdout"
        },
        {
          "output_type": "display_data",
          "data": {
            "image/png": "[encoded data removed]",
            "text/plain": [
              "<Figure size 432x288 with 1 Axes>"
            ]
          },
          "metadata": {
            "tags": [],
            "needs_background": "light"
          }
        }
      ]
    },
    {
      "cell_type": "markdown",
      "metadata": {
        "id": "6uCdTTInJGCe",
        "colab_type": "text"
      },
      "source": [
        "# `Database Generation`"
      ]
    },
    {
      "cell_type": "code",
      "metadata": {
        "id": "CYaAVSWcIGhZ",
        "colab_type": "code",
        "colab": {}
      },
      "source": [
        "model = build_model(vocab_size, embedding_dim, rnn_units, batch_size=1)\n",
        "model.load_weights(tf.train.latest_checkpoint(checkpoint_dir))\n",
        "model.build(tf.TensorShape([1, None]))"
      ],
      "execution_count": 0,
      "outputs": []
    },
    {
      "cell_type": "code",
      "metadata": {
        "id": "0pbWOMSYKYLw",
        "colab_type": "code",
        "colab": {}
      },
      "source": [
        "def generate_text(model, out_size, start_string):\n",
        "    # Number of characters to generate\n",
        "    num_generate = out_size\n",
        "\n",
        "    # Converting our start string to numbers (vectorizing)\n",
        "    input_eval = [char2idx[s] for s in start_string]\n",
        "    input_eval = tf.expand_dims(input_eval, 0)\n",
        "\n",
        "    # Empty string to store our results\n",
        "    text_generated = []\n",
        "\n",
        "    # Low temperatures results in more predictable text.\n",
        "    # Higher temperatures results in more surprising text.\n",
        "    temperature = 1.0\n",
        "\n",
        "    # Here batch size == 1\n",
        "    model.reset_states()\n",
        "    for i in range(num_generate):\n",
        "        predictions = model(input_eval)\n",
        "        # remove the batch dimension\n",
        "        predictions = tf.squeeze(predictions, 0)\n",
        "\n",
        "        # using a categorical distribution to predict the character returned by the model\n",
        "        predictions = predictions / temperature\n",
        "        predicted_id = tf.random.categorical(predictions, num_samples=1)[-1,0].numpy()\n",
        "\n",
        "        # We pass the predicted character as the next input to the model\n",
        "        # along with the previous hidden state\n",
        "        input_eval = tf.expand_dims([predicted_id], 0)\n",
        "\n",
        "        text_generated.append(idx2char[predicted_id])\n",
        "\n",
        "    return (start_string + ''.join(text_generated))"
      ],
      "execution_count": 0,
      "outputs": []
    },
    {
      "cell_type": "code",
      "metadata": {
        "id": "OlAfI5AVM9ac",
        "colab_type": "code",
        "colab": {
          "base_uri": "https://localhost:8080/",
          "height": 72
        },
        "outputId": "7f431171-459d-4dec-f2f1-922d7687da4c"
      },
      "source": [
        "print(generate_text(model, 250, \" \"))"
      ],
      "execution_count": 115,
      "outputs": [
        {
          "output_type": "stream",
          "text": [
            " blast ignorand who against me and my parents have done in taking guys in life. Usually I hope you could about this one time, and the other professor breaks are.\"\n",
            "Blue kids are coming for onil single sophomore and that I would never eventually docemft\n"
          ],
          "name": "stdout"
        }
      ]
    },
    {
      "cell_type": "code",
      "metadata": {
        "id": "Ycd5MtZwKaeM",
        "colab_type": "code",
        "colab": {
          "base_uri": "https://localhost:8080/",
          "height": 118,
          "referenced_widgets": [
            "c64bd5909c7d4cd98fa92199dba7ed92",
            "6742921697dc4c1aace3a2ef8b6068ee",
            "af6e483ea941407cbf60318046f55069",
            "5773ef940ca74aca8640116c726b5744",
            "0e9730c713f94feb9aca87ce3d5e6b87",
            "819850c8f1664e09a549662b5385cf0e",
            "d608a63e39b8437eae7cb698083ded73",
            "4b0ebf802d76471694e39d22d2f53961"
          ]
        },
        "outputId": "dbd49919-3153-43e4-d782-e417cda9020f"
      },
      "source": [
        "database = [[], [], []]\n",
        "\n",
        "for _ in tqdm_notebook(range(database_size)):\n",
        "\n",
        "    # random size\n",
        "    user_jo_bola = random.randint(60, 500)\n",
        "    temp_conf_string = generate_text(model, user_jo_bola, start_string=\" \")\n",
        "    index = temp_conf_string.rfind('.')\n",
        "    conf_string = temp_conf_string[:index] + \".\"\n",
        "\n",
        "    if len(conf_string) < 180:\n",
        "        # relative_conf = \"smallpp\"\n",
        "        database[0].append(conf_string)\n",
        "    elif len(conf_string) < 300:\n",
        "        # relative_conf = \"mediumpp\"\n",
        "        database[1].append(conf_string)\n",
        "    else:\n",
        "        # relative_conf = \"largepp\"\n",
        "        database[2].append(conf_string)"
      ],
      "execution_count": 118,
      "outputs": [
        {
          "output_type": "stream",
          "text": [
            "/usr/local/lib/python3.6/dist-packages/ipykernel_launcher.py:3: TqdmDeprecationWarning: This function will be removed in tqdm==5.0.0\n",
            "Please use `tqdm.notebook.tqdm` instead of `tqdm.tqdm_notebook`\n",
            "  This is separate from the ipykernel package so we can avoid doing imports until\n"
          ],
          "name": "stderr"
        },
        {
          "output_type": "display_data",
          "data": {
            "application/vnd.jupyter.widget-view+json": {
              "model_id": "c64bd5909c7d4cd98fa92199dba7ed92",
              "version_minor": 0,
              "version_major": 2
            },
            "text/plain": [
              "HBox(children=(FloatProgress(value=0.0, max=300.0), HTML(value='')))"
            ]
          },
          "metadata": {
            "tags": []
          }
        },
        {
          "output_type": "stream",
          "text": [
            "\n"
          ],
          "name": "stdout"
        }
      ]
    },
    {
      "cell_type": "code",
      "metadata": {
        "id": "wPmRzC9URnKK",
        "colab_type": "code",
        "colab": {}
      },
      "source": [
        "pp_sizes = [\"smallpp\", \"mediumpp\", \"largepp\"]\n",
        "\n",
        "for i, name in enumerate(pp_sizes):\n",
        "    with open(f\"/content/drive/My Drive/Database/{name}_database.txt\", 'w', encoding='utf-8') as f:\n",
        "        # json.dump({\"content\":database[i]}, f, ensure_ascii=False)\n",
        "        for j in database[i]:\n",
        "            if len(j) < 50:\n",
        "                continue\n",
        "            f.write(\"[\\\"\")\n",
        "            f.write(j)\n",
        "            f.write(\"\\\"],\")"
      ],
      "execution_count": 0,
      "outputs": []
    }
  ]
}